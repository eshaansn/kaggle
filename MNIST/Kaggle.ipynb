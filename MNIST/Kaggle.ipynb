{
 "cells": [
  {
   "cell_type": "code",
   "execution_count": 1,
   "source": [
    "import pandas as pd\n",
    "import numpy as np\n",
    "import matplotlib.pyplot as plt\n",
    "import seaborn as sns\n",
    "\n",
    "from sklearn.model_selection import train_test_split\n",
    "from sklearn.metrics import confusion_matrix\n",
    "\n",
    "import tensorflow as tf\n",
    "from tensorflow import keras"
   ],
   "outputs": [],
   "metadata": {}
  },
  {
   "cell_type": "code",
   "execution_count": 2,
   "source": [
    "train = pd.read_csv('input/train.csv')\n",
    "test =  pd.read_csv('input/test.csv')"
   ],
   "outputs": [],
   "metadata": {}
  },
  {
   "cell_type": "code",
   "execution_count": 3,
   "source": [
    "y_train = train.label\n",
    "X_train = train.drop('label', axis=1)\n",
    "\n",
    "g = sns.countplot(y_train)"
   ],
   "outputs": [
    {
     "output_type": "stream",
     "name": "stderr",
     "text": [
      "/home/xor/anaconda3/lib/python3.8/site-packages/seaborn/_decorators.py:36: FutureWarning: Pass the following variable as a keyword arg: x. From version 0.12, the only valid positional argument will be `data`, and passing other arguments without an explicit keyword will result in an error or misinterpretation.\n",
      "  warnings.warn(\n"
     ]
    },
    {
     "output_type": "display_data",
     "data": {
      "image/png": "[encoded data removed]",
      "text/plain": [
       "<Figure size 432x288 with 1 Axes>"
      ]
     },
     "metadata": {
      "needs_background": "light"
     }
    }
   ],
   "metadata": {}
  },
  {
   "cell_type": "code",
   "execution_count": 4,
   "source": [
    "plt.imshow(X_train.iloc[5].to_numpy().reshape(28, 28, 1), cmap='gray')"
   ],
   "outputs": [
    {
     "output_type": "execute_result",
     "data": {
      "text/plain": [
       "<matplotlib.image.AxesImage at 0x7fad1b9f9070>"
      ]
     },
     "metadata": {},
     "execution_count": 4
    },
    {
     "output_type": "display_data",
     "data": {
      "image/png": "[encoded data removed]",
      "text/plain": [
       "<Figure size 432x288 with 1 Axes>"
      ]
     },
     "metadata": {
      "needs_background": "light"
     }
    }
   ],
   "metadata": {}
  },
  {
   "cell_type": "code",
   "execution_count": 5,
   "source": [
    "X_train = X_train / 255\n",
    "test = test / 255"
   ],
   "outputs": [],
   "metadata": {}
  },
  {
   "cell_type": "code",
   "execution_count": 6,
   "source": [
    "X_train = X_train.values.reshape(-1, 28, 28, 1)\n",
    "test = test.values.reshape(-1, 28, 28, 1)"
   ],
   "outputs": [],
   "metadata": {}
  },
  {
   "cell_type": "code",
   "execution_count": 7,
   "source": [
    "del train"
   ],
   "outputs": [],
   "metadata": {}
  },
  {
   "cell_type": "code",
   "execution_count": 8,
   "source": [
    "X_train, X_val, y_train, y_val = train_test_split(X_train, y_train, test_size=0.2, random_state=42)"
   ],
   "outputs": [],
   "metadata": {}
  },
  {
   "cell_type": "markdown",
   "source": [
    "# Model 1\n",
    "\n",
    "* Blind First Attempt, not using Convolutional and Pooling Layers\n",
    "* Using Dense layers for simplicity"
   ],
   "metadata": {}
  },
  {
   "cell_type": "code",
   "execution_count": 9,
   "source": [
    "model = tf.keras.Sequential()\n",
    "\n",
    "model.add(tf.keras.layers.Flatten())\n",
    "\n",
    "model.add(tf.keras.layers.Dense(100, activation='relu'))\n",
    "\n",
    "model.add(tf.keras.layers.Dense(100, activation='relu'))\n",
    "\n",
    "model.add(tf.keras.layers.Dense(10, activation='softmax'))"
   ],
   "outputs": [],
   "metadata": {}
  },
  {
   "cell_type": "code",
   "execution_count": 10,
   "source": [
    "model.compile(optimizer='adam', loss='sparse_categorical_crossentropy', metrics=['accuracy'])"
   ],
   "outputs": [],
   "metadata": {}
  },
  {
   "cell_type": "code",
   "execution_count": 11,
   "source": [
    "history = model.fit(X_train, y_train, batch_size=32, epochs=20, validation_data=(X_val, y_val))"
   ],
   "outputs": [
    {
     "output_type": "stream",
     "name": "stdout",
     "text": [
      "Epoch 1/20\n",
      "1050/1050 [==============================] - 3s 2ms/step - loss: 0.3084 - accuracy: 0.9107 - val_loss: 0.1888 - val_accuracy: 0.9449\n",
      "Epoch 2/20\n",
      "1050/1050 [==============================] - 3s 3ms/step - loss: 0.1303 - accuracy: 0.9612 - val_loss: 0.1273 - val_accuracy: 0.9600\n",
      "Epoch 3/20\n",
      "1050/1050 [==============================] - 2s 2ms/step - loss: 0.0905 - accuracy: 0.9719 - val_loss: 0.1106 - val_accuracy: 0.9674\n",
      "Epoch 4/20\n",
      "1050/1050 [==============================] - 2s 2ms/step - loss: 0.0676 - accuracy: 0.9792 - val_loss: 0.1143 - val_accuracy: 0.9652\n",
      "Epoch 5/20\n",
      "1050/1050 [==============================] - 2s 2ms/step - loss: 0.0535 - accuracy: 0.9831 - val_loss: 0.1073 - val_accuracy: 0.9695\n",
      "Epoch 6/20\n",
      "1050/1050 [==============================] - 2s 2ms/step - loss: 0.0443 - accuracy: 0.9855 - val_loss: 0.1080 - val_accuracy: 0.9671\n",
      "Epoch 7/20\n",
      "1050/1050 [==============================] - 2s 2ms/step - loss: 0.0338 - accuracy: 0.9882 - val_loss: 0.1100 - val_accuracy: 0.9701\n",
      "Epoch 8/20\n",
      "1050/1050 [==============================] - 2s 2ms/step - loss: 0.0283 - accuracy: 0.9909 - val_loss: 0.1014 - val_accuracy: 0.9721\n",
      "Epoch 9/20\n",
      "1050/1050 [==============================] - 3s 3ms/step - loss: 0.0233 - accuracy: 0.9919 - val_loss: 0.1236 - val_accuracy: 0.9695\n",
      "Epoch 10/20\n",
      "1050/1050 [==============================] - 2s 2ms/step - loss: 0.0198 - accuracy: 0.9929 - val_loss: 0.1153 - val_accuracy: 0.9727\n",
      "Epoch 11/20\n",
      "1050/1050 [==============================] - 2s 2ms/step - loss: 0.0219 - accuracy: 0.9923 - val_loss: 0.1291 - val_accuracy: 0.9708\n",
      "Epoch 12/20\n",
      "1050/1050 [==============================] - 2s 2ms/step - loss: 0.0147 - accuracy: 0.9951 - val_loss: 0.1672 - val_accuracy: 0.9632\n",
      "Epoch 13/20\n",
      "1050/1050 [==============================] - 2s 2ms/step - loss: 0.0177 - accuracy: 0.9937 - val_loss: 0.1383 - val_accuracy: 0.9689\n",
      "Epoch 14/20\n",
      "1050/1050 [==============================] - 2s 2ms/step - loss: 0.0136 - accuracy: 0.9955 - val_loss: 0.1185 - val_accuracy: 0.9745\n",
      "Epoch 15/20\n",
      "1050/1050 [==============================] - 2s 2ms/step - loss: 0.0134 - accuracy: 0.9958 - val_loss: 0.1403 - val_accuracy: 0.9732\n",
      "Epoch 16/20\n",
      "1050/1050 [==============================] - 3s 3ms/step - loss: 0.0149 - accuracy: 0.9950 - val_loss: 0.1326 - val_accuracy: 0.9725\n",
      "Epoch 17/20\n",
      "1050/1050 [==============================] - 2s 2ms/step - loss: 0.0099 - accuracy: 0.9966 - val_loss: 0.1258 - val_accuracy: 0.9760\n",
      "Epoch 18/20\n",
      "1050/1050 [==============================] - 2s 2ms/step - loss: 0.0104 - accuracy: 0.9967 - val_loss: 0.1402 - val_accuracy: 0.9739\n",
      "Epoch 19/20\n",
      "1050/1050 [==============================] - 2s 2ms/step - loss: 0.0122 - accuracy: 0.9955 - val_loss: 0.1597 - val_accuracy: 0.9710\n",
      "Epoch 20/20\n",
      "1050/1050 [==============================] - 2s 2ms/step - loss: 0.0088 - accuracy: 0.9971 - val_loss: 0.1459 - val_accuracy: 0.9720\n"
     ]
    }
   ],
   "metadata": {}
  },
  {
   "cell_type": "code",
   "execution_count": 12,
   "source": [
    "model.summary()"
   ],
   "outputs": [
    {
     "output_type": "stream",
     "name": "stdout",
     "text": [
      "Model: \"sequential\"\n",
      "_________________________________________________________________\n",
      "Layer (type)                 Output Shape              Param #   \n",
      "=================================================================\n",
      "flatten (Flatten)            (None, 784)               0         \n",
      "_________________________________________________________________\n",
      "dense (Dense)                (None, 100)               78500     \n",
      "_________________________________________________________________\n",
      "dense_1 (Dense)              (None, 100)               10100     \n",
      "_________________________________________________________________\n",
      "dense_2 (Dense)              (None, 10)                1010      \n",
      "=================================================================\n",
      "Total params: 89,610\n",
      "Trainable params: 89,610\n",
      "Non-trainable params: 0\n",
      "_________________________________________________________________\n"
     ]
    }
   ],
   "metadata": {}
  },
  {
   "cell_type": "code",
   "execution_count": 13,
   "source": [
    "fig, ax = plt.subplots(2, 1)\n",
    "ax[0].plot(history.history['loss'], color='b', label='Training loss')\n",
    "ax[0].plot(history.history['val_loss'], color='r', label='Validation loss')\n",
    "ax[0].legend()\n",
    "\n",
    "ax[1].plot(history.history['accuracy'], color='b', label='Training accuracy')\n",
    "ax[1].plot(history.history['val_accuracy'], color='r', label='Validiation accuracy')\n",
    "ax[1].legend()"
   ],
   "outputs": [
    {
     "output_type": "execute_result",
     "data": {
      "text/plain": [
       "[<matplotlib.lines.Line2D at 0x7fad0dfebd90>]"
      ]
     },
     "metadata": {},
     "execution_count": 13
    },
    {
     "output_type": "display_data",
     "data": {
      "image/png": "[encoded data removed]",
      "text/plain": [
       "<Figure size 432x288 with 2 Axes>"
      ]
     },
     "metadata": {
      "needs_background": "light"
     }
    }
   ],
   "metadata": {}
  },
  {
   "cell_type": "markdown",
   "source": [
    "# Model 1 Interpretation:\n",
    "\n",
    "* Significant amount of overfitting, "
   ],
   "metadata": {}
  },
  {
   "cell_type": "markdown",
   "source": [
    "# Model 2\n",
    "Based on the results performance of Model 1 we will make the following improvements:\n",
    "* Dropout Regularisation to reduce overfitting\n",
    "* EarlyStopping callback to reduce overfiiting\n",
    "* Lowered the number of Dense Layers to reduce parameters"
   ],
   "metadata": {}
  },
  {
   "cell_type": "code",
   "execution_count": 14,
   "source": [
    "from keras.callbacks import EarlyStopping\n",
    "\n",
    "earlystopping = EarlyStopping(monitor = 'val_loss',\n",
    "                          min_delta = 0,\n",
    "                          patience = 3,\n",
    "                          verbose = 1,\n",
    "                          restore_best_weights = True)"
   ],
   "outputs": [],
   "metadata": {}
  },
  {
   "cell_type": "code",
   "execution_count": 15,
   "source": [
    "model2 = tf.keras.Sequential()\n",
    "\n",
    "model2.add(tf.keras.layers.Flatten())\n",
    "\n",
    "model2.add(tf.keras.layers.Dense(100, activation='relu'))\n",
    "\n",
    "model2.add(tf.keras.layers.Dropout(0.2))\n",
    "\n",
    "model2.add(tf.keras.layers.Dense(10, activation='softmax'))"
   ],
   "outputs": [],
   "metadata": {}
  },
  {
   "cell_type": "code",
   "execution_count": 16,
   "source": [
    "model2.compile(optimizer='adam', loss='sparse_categorical_crossentropy', metrics=['accuracy'])"
   ],
   "outputs": [],
   "metadata": {}
  },
  {
   "cell_type": "code",
   "execution_count": 17,
   "source": [
    "history2 = model2.fit(X_train, y_train, batch_size=32, epochs=20, validation_data=(X_val, y_val), callbacks=[earlystopping])"
   ],
   "outputs": [
    {
     "output_type": "stream",
     "name": "stdout",
     "text": [
      "Epoch 1/20\n",
      "1050/1050 [==============================] - 2s 2ms/step - loss: 0.3930 - accuracy: 0.8854 - val_loss: 0.2130 - val_accuracy: 0.9374\n",
      "Epoch 2/20\n",
      "1050/1050 [==============================] - 2s 2ms/step - loss: 0.1918 - accuracy: 0.9431 - val_loss: 0.1591 - val_accuracy: 0.9533\n",
      "Epoch 3/20\n",
      "1050/1050 [==============================] - 2s 2ms/step - loss: 0.1440 - accuracy: 0.9568 - val_loss: 0.1257 - val_accuracy: 0.9637\n",
      "Epoch 4/20\n",
      "1050/1050 [==============================] - 2s 2ms/step - loss: 0.1170 - accuracy: 0.9648 - val_loss: 0.1136 - val_accuracy: 0.9656\n",
      "Epoch 5/20\n",
      "1050/1050 [==============================] - 2s 2ms/step - loss: 0.1009 - accuracy: 0.9691 - val_loss: 0.1099 - val_accuracy: 0.9668\n",
      "Epoch 6/20\n",
      "1050/1050 [==============================] - 2s 2ms/step - loss: 0.0879 - accuracy: 0.9726 - val_loss: 0.0984 - val_accuracy: 0.9700\n",
      "Epoch 7/20\n",
      "1050/1050 [==============================] - 2s 2ms/step - loss: 0.0755 - accuracy: 0.9762 - val_loss: 0.0940 - val_accuracy: 0.9704\n",
      "Epoch 8/20\n",
      "1050/1050 [==============================] - 2s 2ms/step - loss: 0.0681 - accuracy: 0.9789 - val_loss: 0.0889 - val_accuracy: 0.9725\n",
      "Epoch 9/20\n",
      "1050/1050 [==============================] - 3s 3ms/step - loss: 0.0626 - accuracy: 0.9798 - val_loss: 0.0984 - val_accuracy: 0.9708\n",
      "Epoch 10/20\n",
      "1050/1050 [==============================] - 2s 2ms/step - loss: 0.0569 - accuracy: 0.9815 - val_loss: 0.0896 - val_accuracy: 0.9736\n",
      "Epoch 11/20\n",
      "1050/1050 [==============================] - 2s 2ms/step - loss: 0.0498 - accuracy: 0.9837 - val_loss: 0.0980 - val_accuracy: 0.9724\n",
      "Restoring model weights from the end of the best epoch.\n",
      "Epoch 00011: early stopping\n"
     ]
    }
   ],
   "metadata": {}
  },
  {
   "cell_type": "code",
   "execution_count": 34,
   "source": [
    "fig, ax = plt.subplots(2, 1)\n",
    "ax[0].plot(history2.history['loss'], color='b', label='Training loss')\n",
    "ax[0].plot(history2.history['val_loss'], color='r', label='Validation loss')\n",
    "ax[0].legend()\n",
    "\n",
    "ax[1].plot(history2.history['accuracy'], color='b', label='Training accuracy')\n",
    "ax[1].plot(history2.history['val_accuracy'], color='r', label='Validiation accuracy')\n",
    "ax[1].legend()"
   ],
   "outputs": [
    {
     "output_type": "execute_result",
     "data": {
      "text/plain": [
       "<matplotlib.legend.Legend at 0x7fad09e375e0>"
      ]
     },
     "metadata": {},
     "execution_count": 34
    },
    {
     "output_type": "display_data",
     "data": {
      "image/png": "[encoded data removed]",
      "text/plain": [
       "<Figure size 432x288 with 2 Axes>"
      ]
     },
     "metadata": {
      "needs_background": "light"
     }
    }
   ],
   "metadata": {}
  },
  {
   "cell_type": "markdown",
   "source": [
    "# Evaluation of both Models"
   ],
   "metadata": {}
  },
  {
   "cell_type": "code",
   "execution_count": 35,
   "source": [
    "def plot_confusion_matrix(cm, classes,\n",
    "                          normalize=False,\n",
    "                          title='Confusion matrix',\n",
    "                          cmap=plt.cm.Blues):\n",
    "    \"\"\"\n",
    "    This function prints and plots the confusion matrix.\n",
    "    Normalization can be applied by setting `normalize=True`.\n",
    "    \"\"\"\n",
    "    plt.imshow(cm, interpolation='nearest', cmap=cmap)\n",
    "    plt.title(title)\n",
    "    plt.colorbar()\n",
    "    tick_marks = np.arange(len(classes))\n",
    "    plt.xticks(tick_marks, classes, rotation=45)\n",
    "    plt.yticks(tick_marks, classes)\n",
    "\n",
    "    if normalize:\n",
    "        cm = cm.astype('float') / cm.sum(axis=1)[:, np.newaxis]\n",
    "\n",
    "    thresh = cm.max() / 2.\n",
    "    for i, j in itertools.product(range(cm.shape[0]), range(cm.shape[1])):\n",
    "        plt.text(j, i, cm[i, j],\n",
    "                 horizontalalignment=\"center\",\n",
    "                 color=\"white\" if cm[i, j] > thresh else \"black\")\n",
    "\n",
    "    plt.tight_layout()\n",
    "    plt.ylabel('True label')\n",
    "    plt.xlabel('Predicted label')\n",
    "\n",
    "#Modified code from:https://www.kaggle.com/yassineghouzam/introduction-to-cnn-keras-0-997-top-6\n"
   ],
   "outputs": [],
   "metadata": {}
  },
  {
   "cell_type": "code",
   "execution_count": 36,
   "source": [
    "Y_pred = model.predict(X_val)\n",
    "Y_pred_classes = [np.argmax(pred) for pred in Y_pred]\n",
    "\n",
    "Y_true = y_val\n",
    "# compute the confusion matrix\n",
    "confusion_mtx = confusion_matrix(Y_true, Y_pred_classes) \n",
    "# plot the confusion matrix\n",
    "plot_confusion_matrix(confusion_mtx, classes = range(10)) \n"
   ],
   "outputs": [
    {
     "output_type": "display_data",
     "data": {
      "image/png": "[encoded data removed]",
      "text/plain": [
       "<Figure size 432x288 with 2 Axes>"
      ]
     },
     "metadata": {
      "needs_background": "light"
     }
    }
   ],
   "metadata": {}
  },
  {
   "cell_type": "code",
   "execution_count": 37,
   "source": [
    "Y_pred = model2.predict(X_val)\n",
    "Y_pred_classes = [np.argmax(pred) for pred in Y_pred]\n",
    "\n",
    "Y_true = y_val\n",
    "# compute the confusion matrix\n",
    "confusion_mtx = confusion_matrix(Y_true, Y_pred_classes) \n",
    "# plot the confusion matrix\n",
    "plot_confusion_matrix(confusion_mtx, classes = range(10)) \n"
   ],
   "outputs": [
    {
     "output_type": "display_data",
     "data": {
      "image/png": "[encoded data removed]",
      "text/plain": [
       "<Figure size 432x288 with 2 Axes>"
      ]
     },
     "metadata": {
      "needs_background": "light"
     }
    }
   ],
   "metadata": {}
  },
  {
   "cell_type": "code",
   "execution_count": 40,
   "source": [
    "train_model_1 = model.evaluate(x=X_train, y=y_train, batch_size=32)\n",
    "val_model_1 = model.evaluate(x=X_val, y=y_val, batch_size=32)\n",
    "\n",
    "train_model_1, val_model_1"
   ],
   "outputs": [
    {
     "output_type": "stream",
     "name": "stdout",
     "text": [
      "1050/1050 [==============================] - 2s 2ms/step - loss: 0.0061 - accuracy: 0.9979\n",
      "263/263 [==============================] - 0s 1ms/step - loss: 0.1459 - accuracy: 0.9720\n"
     ]
    },
    {
     "output_type": "execute_result",
     "data": {
      "text/plain": [
       "([0.006124433130025864, 0.9979166388511658],\n",
       " [0.1458509862422943, 0.9720237851142883])"
      ]
     },
     "metadata": {},
     "execution_count": 40
    }
   ],
   "metadata": {}
  },
  {
   "cell_type": "code",
   "execution_count": 41,
   "source": [
    "train_model_2 = model2.evaluate(x=X_train, y=y_train, batch_size=32)\n",
    "val_model_2 = model2.evaluate(x=X_val, y=y_val, batch_size=32)\n",
    "\n",
    "train_model_2, val_model_2"
   ],
   "outputs": [
    {
     "output_type": "stream",
     "name": "stdout",
     "text": [
      "1050/1050 [==============================] - 2s 2ms/step - loss: 0.0311 - accuracy: 0.9916\n",
      "263/263 [==============================] - 0s 1ms/step - loss: 0.0889 - accuracy: 0.9725\n"
     ]
    },
    {
     "output_type": "execute_result",
     "data": {
      "text/plain": [
       "([0.031136980280280113, 0.9915773868560791],\n",
       " [0.08893197029829025, 0.9725000262260437])"
      ]
     },
     "metadata": {},
     "execution_count": 41
    }
   ],
   "metadata": {}
  },
  {
   "cell_type": "code",
   "execution_count": 49,
   "source": [
    "results = model2.predict(test)\n",
    "\n",
    "results = [np.argmax(pred) for pred in results]\n",
    "\n",
    "submission = pd.concat([pd.Series(range(1,28001),name = \"ImageId\"), pd.Series(results,name='Label')],axis = 1)\n",
    "\n",
    "submission.to_csv(\"submission.csv\",index=False)"
   ],
   "outputs": [],
   "metadata": {}
  }
 ],
 "metadata": {
  "orig_nbformat": 4,
  "language_info": {
   "name": "python",
   "version": "3.8.8",
   "mimetype": "text/x-python",
   "codemirror_mode": {
    "name": "ipython",
    "version": 3
   },
   "pygments_lexer": "ipython3",
   "nbconvert_exporter": "python",
   "file_extension": ".py"
  },
  "kernelspec": {
   "name": "python3",
   "display_name": "Python 3.8.8 64-bit ('base': conda)"
  },
  "interpreter": {
   "hash": "995974965da8399e7354a48bafaf36f83d8d71d3c2f9bcc30e02a2d006497dd8"
  }
 },
 "nbformat": 4,
 "nbformat_minor": 2
}